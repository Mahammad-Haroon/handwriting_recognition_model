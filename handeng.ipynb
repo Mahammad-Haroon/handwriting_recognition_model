{
 "cells": [
  {
   "cell_type": "code",
   "execution_count": 4,
   "metadata": {
    "id": "1taQLVbHR50t"
   },
   "outputs": [],
   "source": [
    "import os\n",
    "import numpy as np\n",
    "import pandas as pd\n",
    "import tensorflow as tf\n",
    "from tensorflow.keras.layers import (Conv2D, MaxPooling2D, Dense, Flatten, \n",
    "                                     Dropout, GRU, Bidirectional, BatchNormalization, Input, TimeDistributed)\n",
    "from tensorflow.keras.models import Model\n",
    "from tensorflow.keras.preprocessing.image import load_img, img_to_array\n",
    "from sklearn.model_selection import train_test_split"
   ]
  },
  {
   "cell_type": "code",
   "execution_count": 6,
   "metadata": {},
   "outputs": [],
   "source": [
    "# Step 1: Data Loading and Preprocessing\n",
    "def preprocess_image(image_path, target_size=(128, 32)):\n",
    "    img = load_img(image_path, color_mode='grayscale', target_size=target_size)\n",
    "    img_array = img_to_array(img) / 255.0  # Normalize\n",
    "    return img_array\n",
    "\n",
    "# Adjust dataset paths and load data\n",
    "root_path = r'C:\\Users\\hp\\Desktop\\athees half\\archive (4)'\n",
    "csv_path = os.path.join(root_path, 'kan_labels.csv')\n",
    "data = pd.read_csv(csv_path)\n",
    "data['Image_Path'] = data['Image_Path'].apply(lambda x: os.path.join(root_path, x))\n",
    "data['Processed_Images'] = data['Image_Path'].apply(preprocess_image)"
   ]
  },
  {
   "cell_type": "code",
   "execution_count": 12,
   "metadata": {},
   "outputs": [
    {
     "name": "stdout",
     "output_type": "stream",
     "text": [
      "Label for image C:\\Users\\hp\\Desktop\\athees half\\archive (4)\\kannada_ocr_images/word_0.png: ಲಕ್ಷ\n",
      "Label for image C:\\Users\\hp\\Desktop\\athees half\\archive (4)\\kannada_ocr_images/word_1.png: ಮೊಬೈಲ್\n",
      "Label for image C:\\Users\\hp\\Desktop\\athees half\\archive (4)\\kannada_ocr_images/word_2.png: ಲೈಫ್\n",
      "Label for image C:\\Users\\hp\\Desktop\\athees half\\archive (4)\\kannada_ocr_images/word_3.png: ಲಕ್ಷ\n",
      "Label for image C:\\Users\\hp\\Desktop\\athees half\\archive (4)\\kannada_ocr_images/word_4.png: ಮೊಬೈಲ್\n",
      "Label for image C:\\Users\\hp\\Desktop\\athees half\\archive (4)\\kannada_ocr_images/word_5.png: ಮೊಬೈಲ್\n"
     ]
    }
   ],
   "source": [
    "# Check if labels are being fetched\n",
    "def check_labels(data):\n",
    "    for i, row in data.iterrows():\n",
    "        print(f\"Label for image {row['Image_Path']}: {row['Label']}\")\n",
    "        if i >= 5:  # Check the first 5 labels\n",
    "            break\n",
    "check_labels(data)"
   ]
  },
  {
   "cell_type": "code",
   "execution_count": 13,
   "metadata": {},
   "outputs": [],
   "source": [
    "# Encode labels\n",
    "def encode_label(label, max_len, num_classes):\n",
    "    encoded = np.zeros((max_len, num_classes))\n",
    "    for i, char in enumerate(label[:max_len]):\n",
    "        encoded[i, ord(char) % num_classes] = 1\n",
    "    return encoded\n",
    "\n",
    "max_label_len = 32  # Adjusted to match the model's output sequence length\n",
    "num_classes = 70  # Example: Adjust as needed for Kannada characters\n",
    "data['Encoded_Labels'] = data['Label'].apply(lambda x: encode_label(x, max_label_len, num_classes))\n",
    "\n",
    "# Prepare train/test splits\n",
    "X = np.stack(data['Processed_Images'].values)\n",
    "y = np.stack(data['Encoded_Labels'].values)\n",
    "X_train, X_test, y_train, y_test = train_test_split(X, y, test_size=0.2, random_state=42)"
   ]
  },
  {
   "cell_type": "code",
   "execution_count": 14,
   "metadata": {},
   "outputs": [
    {
     "data": {
      "text/html": [
       "<pre style=\"white-space:pre;overflow-x:auto;line-height:normal;font-family:Menlo,'DejaVu Sans Mono',consolas,'Courier New',monospace\"><span style=\"font-weight: bold\">Model: \"functional\"</span>\n",
       "</pre>\n"
      ],
      "text/plain": [
       "\u001b[1mModel: \"functional\"\u001b[0m\n"
      ]
     },
     "metadata": {},
     "output_type": "display_data"
    },
    {
     "data": {
      "text/html": [
       "<pre style=\"white-space:pre;overflow-x:auto;line-height:normal;font-family:Menlo,'DejaVu Sans Mono',consolas,'Courier New',monospace\">┏━━━━━━━━━━━━━━━━━━━━━━━━━━━━━━━━━┳━━━━━━━━━━━━━━━━━━━━━━━━┳━━━━━━━━━━━━━━━┓\n",
       "┃<span style=\"font-weight: bold\"> Layer (type)                    </span>┃<span style=\"font-weight: bold\"> Output Shape           </span>┃<span style=\"font-weight: bold\">       Param # </span>┃\n",
       "┡━━━━━━━━━━━━━━━━━━━━━━━━━━━━━━━━━╇━━━━━━━━━━━━━━━━━━━━━━━━╇━━━━━━━━━━━━━━━┩\n",
       "│ input_layer (<span style=\"color: #0087ff; text-decoration-color: #0087ff\">InputLayer</span>)        │ (<span style=\"color: #00d7ff; text-decoration-color: #00d7ff\">None</span>, <span style=\"color: #00af00; text-decoration-color: #00af00\">128</span>, <span style=\"color: #00af00; text-decoration-color: #00af00\">32</span>, <span style=\"color: #00af00; text-decoration-color: #00af00\">1</span>)     │             <span style=\"color: #00af00; text-decoration-color: #00af00\">0</span> │\n",
       "├─────────────────────────────────┼────────────────────────┼───────────────┤\n",
       "│ conv2d (<span style=\"color: #0087ff; text-decoration-color: #0087ff\">Conv2D</span>)                 │ (<span style=\"color: #00d7ff; text-decoration-color: #00d7ff\">None</span>, <span style=\"color: #00af00; text-decoration-color: #00af00\">128</span>, <span style=\"color: #00af00; text-decoration-color: #00af00\">32</span>, <span style=\"color: #00af00; text-decoration-color: #00af00\">32</span>)    │           <span style=\"color: #00af00; text-decoration-color: #00af00\">320</span> │\n",
       "├─────────────────────────────────┼────────────────────────┼───────────────┤\n",
       "│ max_pooling2d (<span style=\"color: #0087ff; text-decoration-color: #0087ff\">MaxPooling2D</span>)    │ (<span style=\"color: #00d7ff; text-decoration-color: #00d7ff\">None</span>, <span style=\"color: #00af00; text-decoration-color: #00af00\">64</span>, <span style=\"color: #00af00; text-decoration-color: #00af00\">16</span>, <span style=\"color: #00af00; text-decoration-color: #00af00\">32</span>)     │             <span style=\"color: #00af00; text-decoration-color: #00af00\">0</span> │\n",
       "├─────────────────────────────────┼────────────────────────┼───────────────┤\n",
       "│ batch_normalization             │ (<span style=\"color: #00d7ff; text-decoration-color: #00d7ff\">None</span>, <span style=\"color: #00af00; text-decoration-color: #00af00\">64</span>, <span style=\"color: #00af00; text-decoration-color: #00af00\">16</span>, <span style=\"color: #00af00; text-decoration-color: #00af00\">32</span>)     │           <span style=\"color: #00af00; text-decoration-color: #00af00\">128</span> │\n",
       "│ (<span style=\"color: #0087ff; text-decoration-color: #0087ff\">BatchNormalization</span>)            │                        │               │\n",
       "├─────────────────────────────────┼────────────────────────┼───────────────┤\n",
       "│ conv2d_1 (<span style=\"color: #0087ff; text-decoration-color: #0087ff\">Conv2D</span>)               │ (<span style=\"color: #00d7ff; text-decoration-color: #00d7ff\">None</span>, <span style=\"color: #00af00; text-decoration-color: #00af00\">64</span>, <span style=\"color: #00af00; text-decoration-color: #00af00\">16</span>, <span style=\"color: #00af00; text-decoration-color: #00af00\">64</span>)     │        <span style=\"color: #00af00; text-decoration-color: #00af00\">18,496</span> │\n",
       "├─────────────────────────────────┼────────────────────────┼───────────────┤\n",
       "│ max_pooling2d_1 (<span style=\"color: #0087ff; text-decoration-color: #0087ff\">MaxPooling2D</span>)  │ (<span style=\"color: #00d7ff; text-decoration-color: #00d7ff\">None</span>, <span style=\"color: #00af00; text-decoration-color: #00af00\">32</span>, <span style=\"color: #00af00; text-decoration-color: #00af00\">8</span>, <span style=\"color: #00af00; text-decoration-color: #00af00\">64</span>)      │             <span style=\"color: #00af00; text-decoration-color: #00af00\">0</span> │\n",
       "├─────────────────────────────────┼────────────────────────┼───────────────┤\n",
       "│ batch_normalization_1           │ (<span style=\"color: #00d7ff; text-decoration-color: #00d7ff\">None</span>, <span style=\"color: #00af00; text-decoration-color: #00af00\">32</span>, <span style=\"color: #00af00; text-decoration-color: #00af00\">8</span>, <span style=\"color: #00af00; text-decoration-color: #00af00\">64</span>)      │           <span style=\"color: #00af00; text-decoration-color: #00af00\">256</span> │\n",
       "│ (<span style=\"color: #0087ff; text-decoration-color: #0087ff\">BatchNormalization</span>)            │                        │               │\n",
       "├─────────────────────────────────┼────────────────────────┼───────────────┤\n",
       "│ reshape (<span style=\"color: #0087ff; text-decoration-color: #0087ff\">Reshape</span>)               │ (<span style=\"color: #00d7ff; text-decoration-color: #00d7ff\">None</span>, <span style=\"color: #00af00; text-decoration-color: #00af00\">32</span>, <span style=\"color: #00af00; text-decoration-color: #00af00\">512</span>)        │             <span style=\"color: #00af00; text-decoration-color: #00af00\">0</span> │\n",
       "├─────────────────────────────────┼────────────────────────┼───────────────┤\n",
       "│ bidirectional (<span style=\"color: #0087ff; text-decoration-color: #0087ff\">Bidirectional</span>)   │ (<span style=\"color: #00d7ff; text-decoration-color: #00d7ff\">None</span>, <span style=\"color: #00af00; text-decoration-color: #00af00\">32</span>, <span style=\"color: #00af00; text-decoration-color: #00af00\">256</span>)        │       <span style=\"color: #00af00; text-decoration-color: #00af00\">493,056</span> │\n",
       "├─────────────────────────────────┼────────────────────────┼───────────────┤\n",
       "│ dropout (<span style=\"color: #0087ff; text-decoration-color: #0087ff\">Dropout</span>)               │ (<span style=\"color: #00d7ff; text-decoration-color: #00d7ff\">None</span>, <span style=\"color: #00af00; text-decoration-color: #00af00\">32</span>, <span style=\"color: #00af00; text-decoration-color: #00af00\">256</span>)        │             <span style=\"color: #00af00; text-decoration-color: #00af00\">0</span> │\n",
       "├─────────────────────────────────┼────────────────────────┼───────────────┤\n",
       "│ time_distributed                │ (<span style=\"color: #00d7ff; text-decoration-color: #00d7ff\">None</span>, <span style=\"color: #00af00; text-decoration-color: #00af00\">32</span>, <span style=\"color: #00af00; text-decoration-color: #00af00\">70</span>)         │        <span style=\"color: #00af00; text-decoration-color: #00af00\">17,990</span> │\n",
       "│ (<span style=\"color: #0087ff; text-decoration-color: #0087ff\">TimeDistributed</span>)               │                        │               │\n",
       "└─────────────────────────────────┴────────────────────────┴───────────────┘\n",
       "</pre>\n"
      ],
      "text/plain": [
       "┏━━━━━━━━━━━━━━━━━━━━━━━━━━━━━━━━━┳━━━━━━━━━━━━━━━━━━━━━━━━┳━━━━━━━━━━━━━━━┓\n",
       "┃\u001b[1m \u001b[0m\u001b[1mLayer (type)                   \u001b[0m\u001b[1m \u001b[0m┃\u001b[1m \u001b[0m\u001b[1mOutput Shape          \u001b[0m\u001b[1m \u001b[0m┃\u001b[1m \u001b[0m\u001b[1m      Param #\u001b[0m\u001b[1m \u001b[0m┃\n",
       "┡━━━━━━━━━━━━━━━━━━━━━━━━━━━━━━━━━╇━━━━━━━━━━━━━━━━━━━━━━━━╇━━━━━━━━━━━━━━━┩\n",
       "│ input_layer (\u001b[38;5;33mInputLayer\u001b[0m)        │ (\u001b[38;5;45mNone\u001b[0m, \u001b[38;5;34m128\u001b[0m, \u001b[38;5;34m32\u001b[0m, \u001b[38;5;34m1\u001b[0m)     │             \u001b[38;5;34m0\u001b[0m │\n",
       "├─────────────────────────────────┼────────────────────────┼───────────────┤\n",
       "│ conv2d (\u001b[38;5;33mConv2D\u001b[0m)                 │ (\u001b[38;5;45mNone\u001b[0m, \u001b[38;5;34m128\u001b[0m, \u001b[38;5;34m32\u001b[0m, \u001b[38;5;34m32\u001b[0m)    │           \u001b[38;5;34m320\u001b[0m │\n",
       "├─────────────────────────────────┼────────────────────────┼───────────────┤\n",
       "│ max_pooling2d (\u001b[38;5;33mMaxPooling2D\u001b[0m)    │ (\u001b[38;5;45mNone\u001b[0m, \u001b[38;5;34m64\u001b[0m, \u001b[38;5;34m16\u001b[0m, \u001b[38;5;34m32\u001b[0m)     │             \u001b[38;5;34m0\u001b[0m │\n",
       "├─────────────────────────────────┼────────────────────────┼───────────────┤\n",
       "│ batch_normalization             │ (\u001b[38;5;45mNone\u001b[0m, \u001b[38;5;34m64\u001b[0m, \u001b[38;5;34m16\u001b[0m, \u001b[38;5;34m32\u001b[0m)     │           \u001b[38;5;34m128\u001b[0m │\n",
       "│ (\u001b[38;5;33mBatchNormalization\u001b[0m)            │                        │               │\n",
       "├─────────────────────────────────┼────────────────────────┼───────────────┤\n",
       "│ conv2d_1 (\u001b[38;5;33mConv2D\u001b[0m)               │ (\u001b[38;5;45mNone\u001b[0m, \u001b[38;5;34m64\u001b[0m, \u001b[38;5;34m16\u001b[0m, \u001b[38;5;34m64\u001b[0m)     │        \u001b[38;5;34m18,496\u001b[0m │\n",
       "├─────────────────────────────────┼────────────────────────┼───────────────┤\n",
       "│ max_pooling2d_1 (\u001b[38;5;33mMaxPooling2D\u001b[0m)  │ (\u001b[38;5;45mNone\u001b[0m, \u001b[38;5;34m32\u001b[0m, \u001b[38;5;34m8\u001b[0m, \u001b[38;5;34m64\u001b[0m)      │             \u001b[38;5;34m0\u001b[0m │\n",
       "├─────────────────────────────────┼────────────────────────┼───────────────┤\n",
       "│ batch_normalization_1           │ (\u001b[38;5;45mNone\u001b[0m, \u001b[38;5;34m32\u001b[0m, \u001b[38;5;34m8\u001b[0m, \u001b[38;5;34m64\u001b[0m)      │           \u001b[38;5;34m256\u001b[0m │\n",
       "│ (\u001b[38;5;33mBatchNormalization\u001b[0m)            │                        │               │\n",
       "├─────────────────────────────────┼────────────────────────┼───────────────┤\n",
       "│ reshape (\u001b[38;5;33mReshape\u001b[0m)               │ (\u001b[38;5;45mNone\u001b[0m, \u001b[38;5;34m32\u001b[0m, \u001b[38;5;34m512\u001b[0m)        │             \u001b[38;5;34m0\u001b[0m │\n",
       "├─────────────────────────────────┼────────────────────────┼───────────────┤\n",
       "│ bidirectional (\u001b[38;5;33mBidirectional\u001b[0m)   │ (\u001b[38;5;45mNone\u001b[0m, \u001b[38;5;34m32\u001b[0m, \u001b[38;5;34m256\u001b[0m)        │       \u001b[38;5;34m493,056\u001b[0m │\n",
       "├─────────────────────────────────┼────────────────────────┼───────────────┤\n",
       "│ dropout (\u001b[38;5;33mDropout\u001b[0m)               │ (\u001b[38;5;45mNone\u001b[0m, \u001b[38;5;34m32\u001b[0m, \u001b[38;5;34m256\u001b[0m)        │             \u001b[38;5;34m0\u001b[0m │\n",
       "├─────────────────────────────────┼────────────────────────┼───────────────┤\n",
       "│ time_distributed                │ (\u001b[38;5;45mNone\u001b[0m, \u001b[38;5;34m32\u001b[0m, \u001b[38;5;34m70\u001b[0m)         │        \u001b[38;5;34m17,990\u001b[0m │\n",
       "│ (\u001b[38;5;33mTimeDistributed\u001b[0m)               │                        │               │\n",
       "└─────────────────────────────────┴────────────────────────┴───────────────┘\n"
      ]
     },
     "metadata": {},
     "output_type": "display_data"
    },
    {
     "data": {
      "text/html": [
       "<pre style=\"white-space:pre;overflow-x:auto;line-height:normal;font-family:Menlo,'DejaVu Sans Mono',consolas,'Courier New',monospace\"><span style=\"font-weight: bold\"> Total params: </span><span style=\"color: #00af00; text-decoration-color: #00af00\">530,246</span> (2.02 MB)\n",
       "</pre>\n"
      ],
      "text/plain": [
       "\u001b[1m Total params: \u001b[0m\u001b[38;5;34m530,246\u001b[0m (2.02 MB)\n"
      ]
     },
     "metadata": {},
     "output_type": "display_data"
    },
    {
     "data": {
      "text/html": [
       "<pre style=\"white-space:pre;overflow-x:auto;line-height:normal;font-family:Menlo,'DejaVu Sans Mono',consolas,'Courier New',monospace\"><span style=\"font-weight: bold\"> Trainable params: </span><span style=\"color: #00af00; text-decoration-color: #00af00\">530,054</span> (2.02 MB)\n",
       "</pre>\n"
      ],
      "text/plain": [
       "\u001b[1m Trainable params: \u001b[0m\u001b[38;5;34m530,054\u001b[0m (2.02 MB)\n"
      ]
     },
     "metadata": {},
     "output_type": "display_data"
    },
    {
     "data": {
      "text/html": [
       "<pre style=\"white-space:pre;overflow-x:auto;line-height:normal;font-family:Menlo,'DejaVu Sans Mono',consolas,'Courier New',monospace\"><span style=\"font-weight: bold\"> Non-trainable params: </span><span style=\"color: #00af00; text-decoration-color: #00af00\">192</span> (768.00 B)\n",
       "</pre>\n"
      ],
      "text/plain": [
       "\u001b[1m Non-trainable params: \u001b[0m\u001b[38;5;34m192\u001b[0m (768.00 B)\n"
      ]
     },
     "metadata": {},
     "output_type": "display_data"
    }
   ],
   "source": [
    "# Step 2: Model Definition\n",
    "def build_model(input_shape, output_size):\n",
    "    inputs = Input(shape=input_shape)\n",
    "\n",
    "    # CNN for feature extraction\n",
    "    x = Conv2D(32, (3, 3), activation='relu', padding='same')(inputs)\n",
    "    x = MaxPooling2D((2, 2))(x)\n",
    "    x = BatchNormalization()(x)\n",
    "\n",
    "    x = Conv2D(64, (3, 3), activation='relu', padding='same')(x)\n",
    "    x = MaxPooling2D((2, 2))(x)\n",
    "    x = BatchNormalization()(x)\n",
    "\n",
    "    # Reshape for RNN\n",
    "    new_seq_len = input_shape[0] // 4  # Adjust for pooling layers\n",
    "    num_features = (input_shape[1] // 4) * 64  # Features per timestep after CNN layers\n",
    "    x = tf.keras.layers.Reshape((new_seq_len, num_features))(x)\n",
    "\n",
    "    # RNN for sequence modeling\n",
    "    x = Bidirectional(GRU(128, return_sequences=True))(x)\n",
    "    x = Dropout(0.2)(x)\n",
    "\n",
    "    # Output layer\n",
    "    outputs = TimeDistributed(Dense(output_size, activation='softmax'))(x)\n",
    "\n",
    "    return Model(inputs, outputs)\n",
    "\n",
    "input_shape = (128, 32, 1)  # Correct input shape for grayscale images\n",
    "model = build_model(input_shape=input_shape, output_size=num_classes)\n",
    "model.compile(optimizer='adam', loss='categorical_crossentropy', metrics=['accuracy'])\n",
    "model.summary()\n",
    "\n",
    "# Ensure labels match output sequence length\n",
    "def adjust_labels_for_output(y, target_seq_len):\n",
    "    adjusted_labels = np.zeros((y.shape[0], target_seq_len, y.shape[2]))\n",
    "    for i in range(y.shape[0]):\n",
    "        adjusted_labels[i, :min(y.shape[1], target_seq_len), :] = y[i, :target_seq_len, :]\n",
    "    return adjusted_labels\n",
    "\n",
    "y_train_adjusted = adjust_labels_for_output(y_train, 32)  # Match output sequence length\n",
    "y_test_adjusted = adjust_labels_for_output(y_test, 32)"
   ]
  },
  {
   "cell_type": "code",
   "execution_count": 15,
   "metadata": {},
   "outputs": [
    {
     "name": "stdout",
     "output_type": "stream",
     "text": [
      "Epoch 1/30\n",
      "1250/1250 - 431s - 345ms/step - accuracy: 0.0464 - loss: 0.4033 - val_accuracy: 0.0592 - val_loss: 0.3517\n",
      "Epoch 2/30\n",
      "1250/1250 - 381s - 305ms/step - accuracy: 0.0692 - loss: 0.3086 - val_accuracy: 0.0739 - val_loss: 0.2992\n",
      "Epoch 3/30\n",
      "1250/1250 - 396s - 316ms/step - accuracy: 0.0803 - loss: 0.2660 - val_accuracy: 0.0706 - val_loss: 0.3108\n",
      "Epoch 4/30\n",
      "1250/1250 - 340s - 272ms/step - accuracy: 0.0872 - loss: 0.2394 - val_accuracy: 0.0838 - val_loss: 0.2588\n",
      "Epoch 5/30\n",
      "1250/1250 - 335s - 268ms/step - accuracy: 0.0927 - loss: 0.2189 - val_accuracy: 0.0872 - val_loss: 0.2485\n",
      "Epoch 6/30\n",
      "1250/1250 - 336s - 269ms/step - accuracy: 0.0969 - loss: 0.2030 - val_accuracy: 0.0883 - val_loss: 0.2440\n",
      "Epoch 7/30\n",
      "1250/1250 - 335s - 268ms/step - accuracy: 0.1008 - loss: 0.1885 - val_accuracy: 0.0904 - val_loss: 0.2406\n",
      "Epoch 8/30\n",
      "1250/1250 - 374s - 299ms/step - accuracy: 0.1039 - loss: 0.1769 - val_accuracy: 0.0878 - val_loss: 0.2557\n",
      "Epoch 9/30\n",
      "1250/1250 - 451s - 361ms/step - accuracy: 0.1065 - loss: 0.1671 - val_accuracy: 0.0883 - val_loss: 0.2516\n",
      "Epoch 10/30\n",
      "1250/1250 - 396s - 317ms/step - accuracy: 0.1088 - loss: 0.1582 - val_accuracy: 0.0913 - val_loss: 0.2446\n",
      "Epoch 11/30\n",
      "1250/1250 - 451s - 361ms/step - accuracy: 0.1114 - loss: 0.1495 - val_accuracy: 0.0875 - val_loss: 0.2700\n",
      "Epoch 12/30\n",
      "1250/1250 - 409s - 327ms/step - accuracy: 0.1133 - loss: 0.1429 - val_accuracy: 0.0896 - val_loss: 0.2672\n",
      "Epoch 13/30\n",
      "1250/1250 - 332s - 265ms/step - accuracy: 0.1148 - loss: 0.1367 - val_accuracy: 0.0853 - val_loss: 0.2845\n",
      "Epoch 14/30\n",
      "1250/1250 - 296s - 237ms/step - accuracy: 0.1164 - loss: 0.1307 - val_accuracy: 0.0913 - val_loss: 0.2637\n",
      "Epoch 15/30\n",
      "1250/1250 - 299s - 239ms/step - accuracy: 0.1175 - loss: 0.1271 - val_accuracy: 0.0916 - val_loss: 0.2628\n",
      "Epoch 16/30\n",
      "1250/1250 - 293s - 234ms/step - accuracy: 0.1192 - loss: 0.1209 - val_accuracy: 0.0914 - val_loss: 0.2716\n",
      "Epoch 17/30\n",
      "1250/1250 - 277s - 221ms/step - accuracy: 0.1206 - loss: 0.1166 - val_accuracy: 0.0917 - val_loss: 0.2739\n",
      "Epoch 18/30\n",
      "1250/1250 - 271s - 216ms/step - accuracy: 0.1213 - loss: 0.1138 - val_accuracy: 0.0899 - val_loss: 0.2941\n",
      "Epoch 19/30\n",
      "1250/1250 - 294s - 236ms/step - accuracy: 0.1224 - loss: 0.1102 - val_accuracy: 0.0887 - val_loss: 0.2863\n",
      "Epoch 20/30\n",
      "1250/1250 - 292s - 234ms/step - accuracy: 0.1234 - loss: 0.1058 - val_accuracy: 0.0917 - val_loss: 0.2897\n",
      "Epoch 21/30\n",
      "1250/1250 - 302s - 242ms/step - accuracy: 0.1246 - loss: 0.1027 - val_accuracy: 0.0905 - val_loss: 0.2909\n",
      "Epoch 22/30\n",
      "1250/1250 - 290s - 232ms/step - accuracy: 0.1252 - loss: 0.1017 - val_accuracy: 0.0901 - val_loss: 0.2939\n",
      "Epoch 23/30\n",
      "1250/1250 - 290s - 232ms/step - accuracy: 0.1252 - loss: 0.1003 - val_accuracy: 0.0914 - val_loss: 0.2971\n",
      "Epoch 24/30\n",
      "1250/1250 - 291s - 233ms/step - accuracy: 0.1269 - loss: 0.0944 - val_accuracy: 0.0892 - val_loss: 0.3120\n",
      "Epoch 25/30\n",
      "1250/1250 - 287s - 230ms/step - accuracy: 0.1273 - loss: 0.0934 - val_accuracy: 0.0878 - val_loss: 0.3172\n",
      "Epoch 26/30\n",
      "1250/1250 - 292s - 233ms/step - accuracy: 0.1281 - loss: 0.0907 - val_accuracy: 0.0854 - val_loss: 0.3638\n",
      "Epoch 27/30\n",
      "1250/1250 - 331s - 265ms/step - accuracy: 0.1284 - loss: 0.0895 - val_accuracy: 0.0910 - val_loss: 0.3140\n",
      "Epoch 28/30\n",
      "1250/1250 - 310s - 248ms/step - accuracy: 0.1291 - loss: 0.0871 - val_accuracy: 0.0906 - val_loss: 0.3242\n",
      "Epoch 29/30\n",
      "1250/1250 - 307s - 246ms/step - accuracy: 0.1291 - loss: 0.0871 - val_accuracy: 0.0914 - val_loss: 0.3196\n",
      "Epoch 30/30\n",
      "1250/1250 - 340s - 272ms/step - accuracy: 0.1306 - loss: 0.0833 - val_accuracy: 0.0907 - val_loss: 0.3342\n"
     ]
    }
   ],
   "source": [
    "# Step 3: Model Training\n",
    "batch_size = 32\n",
    "epochs = 30\n",
    "history = model.fit(\n",
    "    x=X_train,\n",
    "    y=y_train_adjusted,\n",
    "    batch_size=batch_size,\n",
    "    epochs=epochs,\n",
    "    validation_data=(X_test, y_test_adjusted),\n",
    "    verbose=2\n",
    ")  "
   ]
  },
  {
   "cell_type": "code",
   "execution_count": 3,
   "metadata": {},
   "outputs": [
    {
     "ename": "NameError",
     "evalue": "name 'model' is not defined",
     "output_type": "error",
     "traceback": [
      "\u001b[1;31m---------------------------------------------------------------------------\u001b[0m",
      "\u001b[1;31mNameError\u001b[0m                                 Traceback (most recent call last)",
      "Cell \u001b[1;32mIn[3], line 3\u001b[0m\n\u001b[0;32m      1\u001b[0m \u001b[38;5;66;03m# Step 4: Save the Model\u001b[39;00m\n\u001b[0;32m      2\u001b[0m model_save_path \u001b[38;5;241m=\u001b[39m \u001b[38;5;124m\"\u001b[39m\u001b[38;5;124mathees.h5\u001b[39m\u001b[38;5;124m\"\u001b[39m\n\u001b[1;32m----> 3\u001b[0m \u001b[43mmodel\u001b[49m\u001b[38;5;241m.\u001b[39msave(model_save_path)\n\u001b[0;32m      4\u001b[0m \u001b[38;5;28mprint\u001b[39m(\u001b[38;5;124mf\u001b[39m\u001b[38;5;124m\"\u001b[39m\u001b[38;5;124mModel saved to \u001b[39m\u001b[38;5;132;01m{\u001b[39;00mmodel_save_path\u001b[38;5;132;01m}\u001b[39;00m\u001b[38;5;124m\"\u001b[39m)\n",
      "\u001b[1;31mNameError\u001b[0m: name 'model' is not defined"
     ]
    }
   ],
   "source": [
    "# Step 4: Save the Model (Recommended Keras format)\n",
    "model_save_path = \"athees.keras\"\n",
    "model.save(model_save_path)\n",
    "print(f\"Model saved to {model_save_path}\")"
   ]
  },
  {
   "cell_type": "code",
   "execution_count": 17,
   "metadata": {},
   "outputs": [
    {
     "data": {
      "image/png": "[encoded data removed]",
      "text/plain": [
       "<Figure size 1200x600 with 2 Axes>"
      ]
     },
     "metadata": {},
     "output_type": "display_data"
    }
   ],
   "source": [
    "# Step 5: Display Accuracy and Loss\n",
    "import matplotlib.pyplot as plt\n",
    "\n",
    "# Plot training & validation accuracy\n",
    "plt.figure(figsize=(12, 6))\n",
    "plt.subplot(1, 2, 1)\n",
    "plt.plot(history.history['accuracy'], label='Train Accuracy')\n",
    "plt.plot(history.history['val_accuracy'], label='Validation Accuracy')\n",
    "plt.title('Model Accuracy')\n",
    "plt.xlabel('Epoch')\n",
    "plt.ylabel('Accuracy')\n",
    "plt.legend()\n",
    "\n",
    "# Plot training & validation loss\n",
    "plt.subplot(1, 2, 2)\n",
    "plt.plot(history.history['loss'], label='Train Loss')\n",
    "plt.plot(history.history['val_loss'], label='Validation Loss')\n",
    "plt.title('Model Loss')\n",
    "plt.xlabel('Epoch')\n",
    "plt.ylabel('Loss')\n",
    "plt.legend()\n",
    "\n",
    "plt.tight_layout()\n",
    "plt.show()"
   ]
  },
  {
   "cell_type": "code",
   "execution_count": 19,
   "metadata": {},
   "outputs": [
    {
     "ename": "ModuleNotFoundError",
     "evalue": "No module named 'nbformat'",
     "output_type": "error",
     "traceback": [
      "\u001b[1;31m---------------------------------------------------------------------------\u001b[0m",
      "\u001b[1;31mModuleNotFoundError\u001b[0m                       Traceback (most recent call last)",
      "Cell \u001b[1;32mIn[19], line 4\u001b[0m\n\u001b[0;32m      2\u001b[0m \u001b[38;5;28;01mimport\u001b[39;00m\u001b[38;5;250m \u001b[39m\u001b[38;5;21;01mmatplotlib\u001b[39;00m\u001b[38;5;21;01m.\u001b[39;00m\u001b[38;5;21;01mpyplot\u001b[39;00m\u001b[38;5;250m \u001b[39m\u001b[38;5;28;01mas\u001b[39;00m\u001b[38;5;250m \u001b[39m\u001b[38;5;21;01mplt\u001b[39;00m\n\u001b[0;32m      3\u001b[0m \u001b[38;5;28;01mimport\u001b[39;00m\u001b[38;5;250m \u001b[39m\u001b[38;5;21;01mcopy\u001b[39;00m\n\u001b[1;32m----> 4\u001b[0m \u001b[38;5;28;01mimport\u001b[39;00m\u001b[38;5;250m \u001b[39m\u001b[38;5;21;01mnbformat\u001b[39;00m\n\u001b[0;32m      6\u001b[0m \u001b[38;5;66;03m# Assuming other necessary imports and model training steps are already in place\u001b[39;00m\n\u001b[0;32m      8\u001b[0m \u001b[38;5;28;01mdef\u001b[39;00m\u001b[38;5;250m \u001b[39m\u001b[38;5;21mtest_model_with_images\u001b[39m(model, test_images, test_labels, label_map, num_tests\u001b[38;5;241m=\u001b[39m\u001b[38;5;241m5\u001b[39m):\n",
      "\u001b[1;31mModuleNotFoundError\u001b[0m: No module named 'nbformat'"
     ]
    }
   ],
   "source": [
    "import numpy as np\n",
    "import matplotlib.pyplot as plt\n",
    "import copy\n",
    "import nbformat\n",
    "\n",
    "# Assuming other necessary imports and model training steps are already in place\n",
    "\n",
    "def test_model_with_images(model, test_images, test_labels, label_map, num_tests=5):\n",
    "    \"\"\"\n",
    "    Tests the model on a subset of test images and prints the predicted and true labels.\n",
    "\n",
    "    Parameters:\n",
    "    - model: Trained Keras model.\n",
    "    - test_images: Array of test images.\n",
    "    - test_labels: Array of true labels (one-hot encoded).\n",
    "    - label_map: Dictionary mapping label indices to characters.\n",
    "    - num_tests: Number of test samples to evaluate.\n",
    "    \"\"\"\n",
    "    predictions = model.predict(test_images[:num_tests])\n",
    "\n",
    "    for i in range(num_tests):\n",
    "        # Get the predicted sequence\n",
    "        predicted_sequence = np.argmax(predictions[i], axis=-1)\n",
    "        \n",
    "        # Decode the true label\n",
    "        true_label_idx = np.argmax(test_labels[i])  # Extract index if labels are one-hot encoded\n",
    "        true_label = label_map.get(true_label_idx, \"Unknown\")\n",
    "\n",
    "        # Extract only the first predicted character\n",
    "        if predicted_sequence.size > 0:\n",
    "            first_pred_idx = predicted_sequence[0]\n",
    "            predicted_label = label_map.get(first_pred_idx, \"Unknown\")\n",
    "        else:\n",
    "            predicted_label = \"No Prediction\"\n",
    "\n",
    "        # Print the predicted and true labels\n",
    "        print(f\"Test {i + 1}:\")\n",
    "        print(f\"  Predicted: {predicted_label}\")\n",
    "        print(f\"  True: {true_label}\\n\")\n",
    "\n",
    "# Prepare test data and label map\n",
    "label_map = {idx: char for idx, char in enumerate(label_encoder.classes_)}\n",
    "X_test_subset = X_test[:5]  # Processed test images\n",
    "y_test_subset = y_test[:5]  # Corresponding true labels\n",
    "\n",
    "# Test the model\n",
    "test_model_with_images(model, X_test_subset, y_test_subset, label_map, num_tests=5)\n",
    "\n"
   ]
  },
  {
   "cell_type": "code",
   "execution_count": 22,
   "metadata": {},
   "outputs": [],
   "source": [
    "# Step 3: Preprocessing Images\n",
    "def preprocess_image(image_path, target_size=(128, 32)):\n",
    "    # Load image, convert to grayscale, resize and normalize\n",
    "    img = load_img(image_path, color_mode='grayscale', target_size=target_size)\n",
    "    img_array = img_to_array(img) / 255.0  # Normalize to [0, 1]\n",
    "    return img_array\n",
    "\n",
    "data['Processed_Images'] = data['Image_Path'].apply(preprocess_image)\n"
   ]
  },
  {
   "cell_type": "code",
   "execution_count": 23,
   "metadata": {
    "id": "qIasO4oyR50u"
   },
   "outputs": [],
   "source": [
    "# Step 4: Encoding Labels\n",
    "\n",
    "from tensorflow.keras.layers import StringLookup\n",
    "# Extract unique characters from the labels\n",
    "characters = sorted(set(\"\".join(data['Label'])))\n",
    "char_to_num = StringLookup(vocabulary=characters, num_oov_indices=1, mask_token=None)\n",
    "num_to_char = StringLookup(vocabulary=characters, invert=True, mask_token=None)\n",
    "\n",
    "def encode_labels(text):\n",
    "    return char_to_num(tf.strings.unicode_split(text, input_encoding=\"UTF-8\"))\n",
    "\n",
    "data['Encoded_Labels'] = data['Label'].apply(encode_labels)"
   ]
  },
  {
   "cell_type": "code",
   "execution_count": 24,
   "metadata": {},
   "outputs": [],
   "source": [
    "# # Step 5: Preparing Data for Training\n",
    "# X = np.stack(data['Processed_Images'].values)\n",
    "# X = X.reshape(-1, 32, 128, 1)  # Ensure proper shape for CNN\n",
    "\n",
    "# def pad_sequences(sequences, maxlen):\n",
    "#     return tf.keras.preprocessing.sequence.pad_sequences(sequences, maxlen=maxlen, padding='post')\n",
    "\n",
    "# max_label_len = max(data['Encoded_Labels'].apply(lambda x: len(x)).values)\n",
    "# y = pad_sequences(data['Encoded_Labels'], maxlen=max_label_len)\n",
    "# Step 5: Preparing Data for Training\n",
    "X = np.stack(data['Processed_Images'].values)\n",
    "X = X.reshape(-1, 32, 128, 1)  # Ensure proper shape for CNN\n",
    "\n",
    "def pad_sequences(sequences, maxlen):\n",
    "    return tf.keras.preprocessing.sequence.pad_sequences(sequences, maxlen=maxlen, padding='post')\n",
    "\n",
    "max_label_len = max(data['Encoded_Labels'].apply(lambda x: len(x)).values)\n",
    "y = pad_sequences(data['Encoded_Labels'], maxlen=max_label_len)\n",
    "\n",
    "# Convert 3D image to 2D\n",
    "def convert_3d_to_2d(image):\n",
    "    return np.max(image, axis=2)\n",
    "\n",
    "X_train_2d = np.array([convert_3d_to_2d(image) for image in X])\n",
    "X_train_2d = X_train_2d.reshape(-1, 32, 128)\n",
    "\n",
    "# One-hot encode the labels\n",
    "num_classes = len(characters) + 1  # +1 for the blank token\n",
    "y = tf.keras.utils.to_categorical(y, num_classes=num_classes)\n",
    "\n"
   ]
  },
  {
   "cell_type": "code",
   "execution_count": 25,
   "metadata": {},
   "outputs": [],
   "source": [
    "# Split into train/test\n",
    "X_train_2d, X_test_2d, y_train, y_test = train_test_split(X, y, test_size=0.2, random_state=42)\n"
   ]
  },
  {
   "cell_type": "code",
   "execution_count": 7,
   "metadata": {},
   "outputs": [
    {
     "ename": "NameError",
     "evalue": "name 'num_classes' is not defined",
     "output_type": "error",
     "traceback": [
      "\u001b[1;31m---------------------------------------------------------------------------\u001b[0m",
      "\u001b[1;31mNameError\u001b[0m                                 Traceback (most recent call last)",
      "Cell \u001b[1;32mIn[7], line 29\u001b[0m\n\u001b[0;32m     26\u001b[0m     \u001b[38;5;28;01mreturn\u001b[39;00m Model(inputs, outputs)\n\u001b[0;32m     28\u001b[0m input_shape \u001b[38;5;241m=\u001b[39m (\u001b[38;5;241m128\u001b[39m, \u001b[38;5;241m32\u001b[39m, \u001b[38;5;241m1\u001b[39m)  \u001b[38;5;66;03m# Correct input shape for grayscale images\u001b[39;00m\n\u001b[1;32m---> 29\u001b[0m model \u001b[38;5;241m=\u001b[39m build_model(input_shape\u001b[38;5;241m=\u001b[39minput_shape, output_size\u001b[38;5;241m=\u001b[39m\u001b[43mnum_classes\u001b[49m)\n\u001b[0;32m     30\u001b[0m model\u001b[38;5;241m.\u001b[39mcompile(optimizer\u001b[38;5;241m=\u001b[39m\u001b[38;5;124m'\u001b[39m\u001b[38;5;124madam\u001b[39m\u001b[38;5;124m'\u001b[39m, loss\u001b[38;5;241m=\u001b[39m\u001b[38;5;124m'\u001b[39m\u001b[38;5;124mcategorical_crossentropy\u001b[39m\u001b[38;5;124m'\u001b[39m, metrics\u001b[38;5;241m=\u001b[39m[\u001b[38;5;124m'\u001b[39m\u001b[38;5;124maccuracy\u001b[39m\u001b[38;5;124m'\u001b[39m])\n\u001b[0;32m     31\u001b[0m model\u001b[38;5;241m.\u001b[39msummary()\n",
      "\u001b[1;31mNameError\u001b[0m: name 'num_classes' is not defined"
     ]
    }
   ],
   "source": [
    "# Step 2: Model Definition\n",
    "def build_model(input_shape, output_size):\n",
    "    inputs = Input(shape=input_shape)\n",
    "\n",
    "    # CNN for feature extraction\n",
    "    x = Conv2D(32, (3, 3), activation='relu', padding='same')(inputs)\n",
    "    x = MaxPooling2D((2, 2))(x)\n",
    "    x = BatchNormalization()(x)\n",
    "\n",
    "    x = Conv2D(64, (3, 3), activation='relu', padding='same')(x)\n",
    "    x = MaxPooling2D((2, 2))(x)\n",
    "    x = BatchNormalization()(x)\n",
    "\n",
    "    # Reshape for RNN\n",
    "    new_seq_len = input_shape[0] // 4  # Adjust for pooling layers\n",
    "    num_features = (input_shape[1] // 4) * 64  # Features per timestep after CNN layers\n",
    "    x = tf.keras.layers.Reshape((new_seq_len, num_features))(x)\n",
    "\n",
    "    # RNN for sequence modeling\n",
    "    x = Bidirectional(GRU(128, return_sequences=True))(x)\n",
    "    x = Dropout(0.2)(x)\n",
    "\n",
    "    # Output layer\n",
    "    outputs = TimeDistributed(Dense(output_size, activation='softmax'))(x)\n",
    "\n",
    "    return Model(inputs, outputs)\n",
    "\n",
    "input_shape = (128, 32, 1)  # Correct input shape for grayscale images\n",
    "model = build_model(input_shape=input_shape, output_size=num_classes)\n",
    "model.compile(optimizer='adam', loss='categorical_crossentropy', metrics=['accuracy'])\n",
    "model.summary()\n",
    "\n",
    "# Ensure labels match output sequence length\n",
    "def adjust_labels_for_output(y, target_seq_len):\n",
    "    adjusted_labels = np.zeros((y.shape[0], target_seq_len, y.shape[2]))\n",
    "    for i in range(y.shape[0]):\n",
    "        adjusted_labels[i, :min(y.shape[1], target_seq_len), :] = y[i, :target_seq_len, :]\n",
    "    return adjusted_labels\n",
    "\n",
    "y_train_adjusted = adjust_labels_for_output(y_train, 32)  # Match output sequence length\n",
    "y_test_adjusted = adjust_labels_for_output(y_test, 32)"
   ]
  },
  {
   "cell_type": "code",
   "execution_count": 4,
   "metadata": {},
   "outputs": [
    {
     "ename": "NameError",
     "evalue": "name 'model' is not defined",
     "output_type": "error",
     "traceback": [
      "\u001b[1;31m---------------------------------------------------------------------------\u001b[0m",
      "\u001b[1;31mNameError\u001b[0m                                 Traceback (most recent call last)",
      "Cell \u001b[1;32mIn[4], line 4\u001b[0m\n\u001b[0;32m      2\u001b[0m batch_size \u001b[38;5;241m=\u001b[39m \u001b[38;5;241m32\u001b[39m\n\u001b[0;32m      3\u001b[0m epochs \u001b[38;5;241m=\u001b[39m \u001b[38;5;241m10\u001b[39m\n\u001b[1;32m----> 4\u001b[0m history \u001b[38;5;241m=\u001b[39m \u001b[43mmodel\u001b[49m\u001b[38;5;241m.\u001b[39mfit(\n\u001b[0;32m      5\u001b[0m     x\u001b[38;5;241m=\u001b[39mX_train,\n\u001b[0;32m      6\u001b[0m     y\u001b[38;5;241m=\u001b[39my_train_adjusted,\n\u001b[0;32m      7\u001b[0m     batch_size\u001b[38;5;241m=\u001b[39mbatch_size,\n\u001b[0;32m      8\u001b[0m     epochs\u001b[38;5;241m=\u001b[39mepochs,\n\u001b[0;32m      9\u001b[0m     validation_data\u001b[38;5;241m=\u001b[39m(X_test, y_test_adjusted),\n\u001b[0;32m     10\u001b[0m     verbose\u001b[38;5;241m=\u001b[39m\u001b[38;5;241m2\u001b[39m\n\u001b[0;32m     11\u001b[0m )\n",
      "\u001b[1;31mNameError\u001b[0m: name 'model' is not defined"
     ]
    }
   ],
   "source": [
    "# Step 3: Model Training\n",
    "batch_size = 32\n",
    "epochs = 10\n",
    "history = model.fit(\n",
    "    x=X_train,\n",
    "    y=y_train_adjusted,\n",
    "    batch_size=batch_size,\n",
    "    epochs=epochs,\n",
    "    validation_data=(X_test, y_test_adjusted),\n",
    "    verbose=2\n",
    ")"
   ]
  },
  {
   "cell_type": "code",
   "execution_count": null,
   "metadata": {
    "id": "MX8gMQanR50u"
   },
   "outputs": [
    {
     "ename": "NameError",
     "evalue": "name 'y_train_final' is not defined",
     "output_type": "error",
     "traceback": [
      "\u001b[1;31m---------------------------------------------------------------------------\u001b[0m",
      "\u001b[1;31mNameError\u001b[0m                                 Traceback (most recent call last)",
      "Cell \u001b[1;32mIn[10], line 6\u001b[0m\n\u001b[0;32m      3\u001b[0m epochs \u001b[38;5;241m=\u001b[39m \u001b[38;5;241m35\u001b[39m \u001b[38;5;66;03m# Increased for better learning, callbacks will prevent overfitting\u001b[39;00m\n\u001b[0;32m      5\u001b[0m \u001b[38;5;66;03m# Adjust augmented labels for output sequence length\u001b[39;00m\n\u001b[1;32m----> 6\u001b[0m y_train_final_adjusted \u001b[38;5;241m=\u001b[39m adjust_labels_for_output(\u001b[43my_train_final\u001b[49m, model\u001b[38;5;241m.\u001b[39moutput_shape[\u001b[38;5;241m1\u001b[39m])\n\u001b[0;32m      7\u001b[0m y_test_adjusted \u001b[38;5;241m=\u001b[39m adjust_labels_for_output(y_test, model\u001b[38;5;241m.\u001b[39moutput_shape[\u001b[38;5;241m1\u001b[39m])\n\u001b[0;32m      9\u001b[0m history \u001b[38;5;241m=\u001b[39m model\u001b[38;5;241m.\u001b[39mfit(\n\u001b[0;32m     10\u001b[0m     x\u001b[38;5;241m=\u001b[39mX_train_final,\n\u001b[0;32m     11\u001b[0m     y\u001b[38;5;241m=\u001b[39my_train_final_adjusted,\n\u001b[1;32m   (...)\u001b[0m\n\u001b[0;32m     16\u001b[0m     verbose\u001b[38;5;241m=\u001b[39m\u001b[38;5;241m2\u001b[39m\n\u001b[0;32m     17\u001b[0m )\n",
      "\u001b[1;31mNameError\u001b[0m: name 'y_train_final' is not defined"
     ]
    }
   ],
   "source": [
    "# Step 4: Save the Model (Recommended Keras format)\n",
    "model_save_path = \"handwriting_recognition_model.keras\"\n",
    "model.save(model_save_path)\n",
    "print(f\"Model saved to {model_save_path}\")"
   ]
  },
  {
   "cell_type": "code",
   "execution_count": null,
   "metadata": {},
   "outputs": [],
   "source": [
    "# Step 5: Display Accuracy and Loss\n",
    "import matplotlib.pyplot as plt\n",
    "\n",
    "# Plot training & validation accuracy\n",
    "plt.figure(figsize=(12, 6))\n",
    "plt.subplot(1, 2, 1)\n",
    "plt.plot(history.history['accuracy'], label='Train Accuracy')\n",
    "plt.plot(history.history['val_accuracy'], label='Validation Accuracy')\n",
    "plt.title('Model Accuracy')\n",
    "plt.xlabel('Epoch')\n",
    "plt.ylabel('Accuracy')\n",
    "plt.legend()\n",
    "\n",
    "# Plot training & validation loss\n",
    "plt.subplot(1, 2, 2)\n",
    "plt.plot(history.history['loss'], label='Train Loss')\n",
    "plt.plot(history.history['val_loss'], label='Validation Loss')\n",
    "plt.title('Model Loss')\n",
    "plt.xlabel('Epoch')\n",
    "plt.ylabel('Loss')\n",
    "plt.legend()\n",
    "\n",
    "plt.tight_layout()\n",
    "plt.show()"
   ]
  },
  {
   "cell_type": "code",
   "execution_count": null,
   "metadata": {},
   "outputs": [],
   "source": [
    "\n",
    "import numpy as np\n",
    "import matplotlib.pyplot as plt\n",
    "import copy\n",
    "import nbformat\n",
    "from sklearn.preprocessing import LabelEncoder\n",
    "\n",
    "# Assuming other necessary imports and model training steps are already in place\n",
    "\n",
    "def test_model_with_images(model, test_images, test_labels, label_map, num_tests=5):\n",
    "    \"\"\"\n",
    "    Tests the model on a subset of test images and prints the predicted and true labels.\n",
    "\n",
    "    Parameters:\n",
    "    - model: Trained Keras model.\n",
    "    - test_images: Array of test images.\n",
    "    - test_labels: Array of true labels (one-hot encoded).\n",
    "    - label_map: Dictionary mapping label indices to characters.\n",
    "    - num_tests: Number of test samples to evaluate.\n",
    "    \"\"\"\n",
    "    predictions = model.predict(test_images[:num_tests])\n",
    "\n",
    "    for i in range(num_tests):\n",
    "        # Get the predicted sequence\n",
    "        predicted_sequence = np.argmax(predictions[i], axis=-1)\n",
    "        \n",
    "        # Decode the true label\n",
    "        true_label_idx = np.argmax(test_labels[i])  # Extract index if labels are one-hot encoded\n",
    "        true_label = label_map.get(true_label_idx, \"Unknown\")\n",
    "\n",
    "        # Extract only the first predicted character\n",
    "        if predicted_sequence.size > 0:\n",
    "            first_pred_idx = predicted_sequence[0]\n",
    "            predicted_label = label_map.get(first_pred_idx, \"Unknown\")\n",
    "        else:\n",
    "            predicted_label = \"No Prediction\"\n",
    "\n",
    "        # Print the predicted and true labels\n",
    "        print(f\"Test {i + 1}:\")\n",
    "        print(f\"  Predicted: {predicted_label}\")\n",
    "        print(f\"  True: {true_label}\\n\")\n",
    "\n",
    "# Prepare test data and label map\n",
    "label_encoder = LabelEncoder()\n",
    "unique_labels=data['Label'].unique()\n",
    "label_encoder.fit(unique_labels)\n",
    "label_map = {idx: char for idx, char in enumerate(label_encoder.classes_)}\n",
    "X_test_subset = X_test[:10]  # Processed test images\n",
    "y_test_subset = y_test[:10]  # Corresponding true labels\n",
    "\n",
    "# Test the model\n",
    "test_model_with_images(model, X_test_subset, y_test_subset, label_map, num_tests=5)"
   ]
  },
  {
   "cell_type": "code",
   "execution_count": null,
   "metadata": {},
   "outputs": [],
   "source": []
  }
 ],
 "metadata": {
  "accelerator": "GPU",
  "colab": {
   "name": "handwriting_recognition",
   "provenance": [],
   "toc_visible": true
  },
  "kernelspec": {
   "display_name": "Python 3",
   "language": "python",
   "name": "python3"
  },
  "language_info": {
   "codemirror_mode": {
    "name": "ipython",
    "version": 3
   },
   "file_extension": ".py",
   "mimetype": "text/x-python",
   "name": "python",
   "nbconvert_exporter": "python",
   "pygments_lexer": "ipython3",
   "version": "3.9.12"
  }
 },
 "nbformat": 4,
 "nbformat_minor": 0
}
